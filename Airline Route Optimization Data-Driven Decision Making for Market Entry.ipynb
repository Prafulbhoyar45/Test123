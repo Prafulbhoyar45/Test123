{
 "cells": [
  {
   "cell_type": "markdown",
   "id": "19175727",
   "metadata": {},
   "source": [
    "# Airline Route Optimization: Data-Driven Decision Making for Market Entry"
   ]
  },
  {
   "cell_type": "code",
   "execution_count": 1,
   "id": "13b21c94",
   "metadata": {},
   "outputs": [
    {
     "name": "stdout",
     "output_type": "stream",
     "text": [
      "Libraries imported successfully!\n"
     ]
    }
   ],
   "source": [
    "# Data Handling & Preprocessing\n",
    "import pandas as pd\n",
    "import numpy as np\n",
    "\n",
    "# Data Visualization\n",
    "import matplotlib.pyplot as plt\n",
    "import seaborn as sns\n",
    "\n",
    "# Data Processing & Transformation\n",
    "from sklearn.preprocessing import StandardScaler, MinMaxScaler\n",
    "\n",
    "# Statistical Analysis\n",
    "import scipy.stats as stats\n",
    "\n",
    "# File Handling & System Operations\n",
    "import os\n",
    "\n",
    "# Suppress Warnings\n",
    "import warnings\n",
    "warnings.filterwarnings(\"ignore\")\n",
    "\n",
    "# Display settings for Pandas\n",
    "pd.set_option(\"display.float_format\", \"{:.2f}\".format)\n",
    "\n",
    "print(\"Libraries imported successfully!\")"
   ]
  },
  {
   "cell_type": "markdown",
   "id": "29e6f745",
   "metadata": {},
   "source": [
    "### Load the data in python Env."
   ]
  },
  {
   "cell_type": "code",
   "execution_count": 2,
   "id": "0da21b26",
   "metadata": {},
   "outputs": [],
   "source": [
    "# Define file paths\n",
    "flights_file = \"Flights.csv\"\n",
    "tickets_file = \"Tickets.csv\"\n",
    "airport_codes_file = \"Airport_Codes.csv\"\n",
    "\n",
    "# Load datasets into Pandas DataFrames\n",
    "flights_df = pd.read_csv(flights_file)\n",
    "tickets_df = pd.read_csv(tickets_file)\n",
    "airport_codes_df = pd.read_csv(airport_codes_file)\n"
   ]
  },
  {
   "cell_type": "markdown",
   "id": "076bc468",
   "metadata": {},
   "source": [
    "#### What are the 10 busiest round-trip routes in terms of the number of round-trip flights in Q1 2019?"
   ]
  },
  {
   "cell_type": "code",
   "execution_count": 3,
   "id": "ea9b271b",
   "metadata": {},
   "outputs": [
    {
     "data": {
      "text/plain": [
       "Index(['FL_DATE', 'OP_CARRIER', 'TAIL_NUM', 'OP_CARRIER_FL_NUM',\n",
       "       'ORIGIN_AIRPORT_ID', 'ORIGIN', 'ORIGIN_CITY_NAME', 'DEST_AIRPORT_ID',\n",
       "       'DESTINATION', 'DEST_CITY_NAME', 'DEP_DELAY', 'ARR_DELAY', 'CANCELLED',\n",
       "       'AIR_TIME', 'DISTANCE', 'OCCUPANCY_RATE'],\n",
       "      dtype='object')"
      ]
     },
     "execution_count": 3,
     "metadata": {},
     "output_type": "execute_result"
    }
   ],
   "source": [
    "flights_df.columns"
   ]
  },
  {
   "cell_type": "code",
   "execution_count": 4,
   "id": "237f4f08",
   "metadata": {},
   "outputs": [],
   "source": [
    "if 'Cancelled' in flights_df.columns:\n",
    "    valid_flights = flights_df[flights_df['Cancelled'] == 0]  # Assuming 0 means NOT canceled\n",
    "elif 'Flight_Status' in flights_df.columns:\n",
    "    valid_flights = flights_df[flights_df['Flight_Status'] == 'Completed']\n",
    "else:\n",
    "    valid_flights = flights_df  # If no column exists, use the full dataset\n"
   ]
  },
  {
   "cell_type": "code",
   "execution_count": 5,
   "id": "c4367b73",
   "metadata": {},
   "outputs": [],
   "source": [
    "# Filter out canceled flights (CANCELLED = 0 means flight was not canceled)\n",
    "valid_flights = flights_df[flights_df['CANCELLED'] == 0]"
   ]
  },
  {
   "cell_type": "code",
   "execution_count": 6,
   "id": "67d60b60",
   "metadata": {},
   "outputs": [],
   "source": [
    "# Count flights in each direction (Origin → Destination and Destination → Origin)\n",
    "round_trip_counts = valid_flights.groupby(['ORIGIN', 'DESTINATION']).size().reset_index(name='Flight_Count')\n"
   ]
  },
  {
   "cell_type": "code",
   "execution_count": 7,
   "id": "3dda452e",
   "metadata": {},
   "outputs": [],
   "source": [
    "# Count return flights (Destination → Origin)\n",
    "round_trip_counts_reversed = valid_flights.groupby(['DESTINATION', 'ORIGIN']).size().reset_index(name='Flight_Count_Reversed')\n"
   ]
  },
  {
   "cell_type": "code",
   "execution_count": 8,
   "id": "1b524543",
   "metadata": {},
   "outputs": [],
   "source": [
    "# Rename columns for merging\n",
    "round_trip_counts_reversed.columns = ['ORIGIN', 'DESTINATION', 'Flight_Count_Reversed']\n"
   ]
  },
  {
   "cell_type": "code",
   "execution_count": 9,
   "id": "8eee1f45",
   "metadata": {},
   "outputs": [],
   "source": [
    "# Merge both flight counts\n",
    "merged_counts = round_trip_counts.merge(round_trip_counts_reversed, on=['ORIGIN', 'DESTINATION'], how='left')\n"
   ]
  },
  {
   "cell_type": "code",
   "execution_count": 10,
   "id": "53309adf",
   "metadata": {},
   "outputs": [],
   "source": [
    "# Sum both directions to get total round-trip flights\n",
    "merged_counts['Total_Round_Trips'] = merged_counts['Flight_Count'] + merged_counts['Flight_Count_Reversed']\n"
   ]
  },
  {
   "cell_type": "code",
   "execution_count": 11,
   "id": "c3850f24",
   "metadata": {},
   "outputs": [],
   "source": [
    "# Get the top 10 busiest round-trip routes\n",
    "top_10_busiest_routes = merged_counts.nlargest(10, 'Total_Round_Trips')"
   ]
  },
  {
   "cell_type": "code",
   "execution_count": 12,
   "id": "3be098cc",
   "metadata": {},
   "outputs": [
    {
     "name": "stdout",
     "output_type": "stream",
     "text": [
      "Top 10 Busiest Round-Trip Routes:\n"
     ]
    },
    {
     "data": {
      "text/html": [
       "<div>\n",
       "<style scoped>\n",
       "    .dataframe tbody tr th:only-of-type {\n",
       "        vertical-align: middle;\n",
       "    }\n",
       "\n",
       "    .dataframe tbody tr th {\n",
       "        vertical-align: top;\n",
       "    }\n",
       "\n",
       "    .dataframe thead th {\n",
       "        text-align: right;\n",
       "    }\n",
       "</style>\n",
       "<table border=\"1\" class=\"dataframe\">\n",
       "  <thead>\n",
       "    <tr style=\"text-align: right;\">\n",
       "      <th></th>\n",
       "      <th>ORIGIN</th>\n",
       "      <th>DESTINATION</th>\n",
       "      <th>Flight_Count</th>\n",
       "      <th>Flight_Count_Reversed</th>\n",
       "      <th>Total_Round_Trips</th>\n",
       "    </tr>\n",
       "  </thead>\n",
       "  <tbody>\n",
       "    <tr>\n",
       "      <th>3010</th>\n",
       "      <td>LAX</td>\n",
       "      <td>SFO</td>\n",
       "      <td>4164</td>\n",
       "      <td>4176.00</td>\n",
       "      <td>8340.00</td>\n",
       "    </tr>\n",
       "    <tr>\n",
       "      <th>5284</th>\n",
       "      <td>SFO</td>\n",
       "      <td>LAX</td>\n",
       "      <td>4176</td>\n",
       "      <td>4164.00</td>\n",
       "      <td>8340.00</td>\n",
       "    </tr>\n",
       "    <tr>\n",
       "      <th>3115</th>\n",
       "      <td>LGA</td>\n",
       "      <td>ORD</td>\n",
       "      <td>3576</td>\n",
       "      <td>3580.00</td>\n",
       "      <td>7156.00</td>\n",
       "    </tr>\n",
       "    <tr>\n",
       "      <th>4066</th>\n",
       "      <td>ORD</td>\n",
       "      <td>LGA</td>\n",
       "      <td>3580</td>\n",
       "      <td>3576.00</td>\n",
       "      <td>7156.00</td>\n",
       "    </tr>\n",
       "    <tr>\n",
       "      <th>2869</th>\n",
       "      <td>LAS</td>\n",
       "      <td>LAX</td>\n",
       "      <td>3254</td>\n",
       "      <td>3257.00</td>\n",
       "      <td>6511.00</td>\n",
       "    </tr>\n",
       "    <tr>\n",
       "      <th>2971</th>\n",
       "      <td>LAX</td>\n",
       "      <td>LAS</td>\n",
       "      <td>3257</td>\n",
       "      <td>3254.00</td>\n",
       "      <td>6511.00</td>\n",
       "    </tr>\n",
       "    <tr>\n",
       "      <th>2742</th>\n",
       "      <td>JFK</td>\n",
       "      <td>LAX</td>\n",
       "      <td>3158</td>\n",
       "      <td>3162.00</td>\n",
       "      <td>6320.00</td>\n",
       "    </tr>\n",
       "    <tr>\n",
       "      <th>2969</th>\n",
       "      <td>LAX</td>\n",
       "      <td>JFK</td>\n",
       "      <td>3162</td>\n",
       "      <td>3158.00</td>\n",
       "      <td>6320.00</td>\n",
       "    </tr>\n",
       "    <tr>\n",
       "      <th>3009</th>\n",
       "      <td>LAX</td>\n",
       "      <td>SEA</td>\n",
       "      <td>2502</td>\n",
       "      <td>2497.00</td>\n",
       "      <td>4999.00</td>\n",
       "    </tr>\n",
       "    <tr>\n",
       "      <th>5137</th>\n",
       "      <td>SEA</td>\n",
       "      <td>LAX</td>\n",
       "      <td>2497</td>\n",
       "      <td>2502.00</td>\n",
       "      <td>4999.00</td>\n",
       "    </tr>\n",
       "  </tbody>\n",
       "</table>\n",
       "</div>"
      ],
      "text/plain": [
       "     ORIGIN DESTINATION  Flight_Count  Flight_Count_Reversed  \\\n",
       "3010    LAX         SFO          4164                4176.00   \n",
       "5284    SFO         LAX          4176                4164.00   \n",
       "3115    LGA         ORD          3576                3580.00   \n",
       "4066    ORD         LGA          3580                3576.00   \n",
       "2869    LAS         LAX          3254                3257.00   \n",
       "2971    LAX         LAS          3257                3254.00   \n",
       "2742    JFK         LAX          3158                3162.00   \n",
       "2969    LAX         JFK          3162                3158.00   \n",
       "3009    LAX         SEA          2502                2497.00   \n",
       "5137    SEA         LAX          2497                2502.00   \n",
       "\n",
       "      Total_Round_Trips  \n",
       "3010            8340.00  \n",
       "5284            8340.00  \n",
       "3115            7156.00  \n",
       "4066            7156.00  \n",
       "2869            6511.00  \n",
       "2971            6511.00  \n",
       "2742            6320.00  \n",
       "2969            6320.00  \n",
       "3009            4999.00  \n",
       "5137            4999.00  "
      ]
     },
     "execution_count": 12,
     "metadata": {},
     "output_type": "execute_result"
    }
   ],
   "source": [
    "# Display results\n",
    "print(\"Top 10 Busiest Round-Trip Routes:\")\n",
    "top_10_busiest_routes"
   ]
  },
  {
   "cell_type": "markdown",
   "id": "cf757974",
   "metadata": {},
   "source": [
    "What are the 10 most profitable round-trip routes (without considering the upfront airplane cost) in Q1 2019?\n",
    "\n",
    " - Show total revenue, total cost, summary values of key components, and total round-trip flights for the top 10 most profitable routes. (Exclude canceled flights.)"
   ]
  },
  {
   "cell_type": "code",
   "execution_count": 13,
   "id": "0a474836",
   "metadata": {},
   "outputs": [],
   "source": [
    "# Ensure 'DISTANCE' is numeric (convert if necessary)\n",
    "flights_df['DISTANCE'] = pd.to_numeric(flights_df['DISTANCE'], errors='coerce')"
   ]
  },
  {
   "cell_type": "code",
   "execution_count": 14,
   "id": "34dd063a",
   "metadata": {},
   "outputs": [],
   "source": [
    "# Filter out canceled flights (CANCELLED = 0 means flight was not canceled)\n",
    "valid_flights = flights_df[flights_df['CANCELLED'] == 0].copy()  # Use .copy() to avoid SettingWithCopyWarning"
   ]
  },
  {
   "cell_type": "code",
   "execution_count": 15,
   "id": "36638db2",
   "metadata": {},
   "outputs": [],
   "source": [
    "# Define cost components (as per challenge instructions)\n",
    "fuel_maintenance_crew_cost_per_mile = 8.0  # $ per mile\n",
    "depreciation_insurance_cost_per_mile = 1.18  # $ per mile"
   ]
  },
  {
   "cell_type": "code",
   "execution_count": 16,
   "id": "578c8872",
   "metadata": {},
   "outputs": [],
   "source": [
    "# Compute cost per flight (ensuring 'DISTANCE' is properly converted)\n",
    "valid_flights.loc[:, 'Flight_Cost'] = valid_flights['DISTANCE'].astype(float) * (fuel_maintenance_crew_cost_per_mile + depreciation_insurance_cost_per_mile)"
   ]
  },
  {
   "cell_type": "code",
   "execution_count": 17,
   "id": "33ba1c73",
   "metadata": {},
   "outputs": [
    {
     "data": {
      "text/html": [
       "<div>\n",
       "<style scoped>\n",
       "    .dataframe tbody tr th:only-of-type {\n",
       "        vertical-align: middle;\n",
       "    }\n",
       "\n",
       "    .dataframe tbody tr th {\n",
       "        vertical-align: top;\n",
       "    }\n",
       "\n",
       "    .dataframe thead th {\n",
       "        text-align: right;\n",
       "    }\n",
       "</style>\n",
       "<table border=\"1\" class=\"dataframe\">\n",
       "  <thead>\n",
       "    <tr style=\"text-align: right;\">\n",
       "      <th></th>\n",
       "      <th>DISTANCE</th>\n",
       "      <th>Flight_Cost</th>\n",
       "    </tr>\n",
       "  </thead>\n",
       "  <tbody>\n",
       "    <tr>\n",
       "      <th>0</th>\n",
       "      <td>1025.00</td>\n",
       "      <td>9409.50</td>\n",
       "    </tr>\n",
       "    <tr>\n",
       "      <th>1</th>\n",
       "      <td>930.00</td>\n",
       "      <td>8537.40</td>\n",
       "    </tr>\n",
       "    <tr>\n",
       "      <th>2</th>\n",
       "      <td>930.00</td>\n",
       "      <td>8537.40</td>\n",
       "    </tr>\n",
       "    <tr>\n",
       "      <th>3</th>\n",
       "      <td>930.00</td>\n",
       "      <td>8537.40</td>\n",
       "    </tr>\n",
       "    <tr>\n",
       "      <th>4</th>\n",
       "      <td>1005.00</td>\n",
       "      <td>9225.90</td>\n",
       "    </tr>\n",
       "    <tr>\n",
       "      <th>5</th>\n",
       "      <td>1147.00</td>\n",
       "      <td>10529.46</td>\n",
       "    </tr>\n",
       "    <tr>\n",
       "      <th>6</th>\n",
       "      <td>945.00</td>\n",
       "      <td>8675.10</td>\n",
       "    </tr>\n",
       "    <tr>\n",
       "      <th>7</th>\n",
       "      <td>945.00</td>\n",
       "      <td>8675.10</td>\n",
       "    </tr>\n",
       "    <tr>\n",
       "      <th>8</th>\n",
       "      <td>945.00</td>\n",
       "      <td>8675.10</td>\n",
       "    </tr>\n",
       "    <tr>\n",
       "      <th>9</th>\n",
       "      <td>945.00</td>\n",
       "      <td>8675.10</td>\n",
       "    </tr>\n",
       "  </tbody>\n",
       "</table>\n",
       "</div>"
      ],
      "text/plain": [
       "   DISTANCE  Flight_Cost\n",
       "0   1025.00      9409.50\n",
       "1    930.00      8537.40\n",
       "2    930.00      8537.40\n",
       "3    930.00      8537.40\n",
       "4   1005.00      9225.90\n",
       "5   1147.00     10529.46\n",
       "6    945.00      8675.10\n",
       "7    945.00      8675.10\n",
       "8    945.00      8675.10\n",
       "9    945.00      8675.10"
      ]
     },
     "execution_count": 17,
     "metadata": {},
     "output_type": "execute_result"
    }
   ],
   "source": [
    "# Display sample output to verify\n",
    "valid_flights[['DISTANCE', 'Flight_Cost']].head(10)"
   ]
  },
  {
   "cell_type": "markdown",
   "id": "00b9c90b",
   "metadata": {},
   "source": [
    "#### Which 5 round-trip routes do you recommend investing in? (Based on factors you choose.)"
   ]
  },
  {
   "cell_type": "raw",
   "id": "d9062ee5",
   "metadata": {},
   "source": [
    "🔹 Selection Criteria\n",
    "Profitability → The route should be among the most profitable (high total profit).\n",
    "On-Time Performance → Routes with low delay times (both departure and arrival delays) are preferable.\n",
    "Passenger Demand → Routes with higher occupancy rates and more round-trip flights indicate demand.\n",
    "Operational Costs → Lower airport charges and fuel costs make a route more attractive."
   ]
  },
  {
   "cell_type": "code",
   "execution_count": 18,
   "id": "d1a5f2ab",
   "metadata": {},
   "outputs": [],
   "source": [
    "# Ensure necessary columns are numeric\n",
    "flights_df['DISTANCE'] = pd.to_numeric(flights_df['DISTANCE'], errors='coerce')\n",
    "flights_df['DEP_DELAY'] = pd.to_numeric(flights_df['DEP_DELAY'], errors='coerce')\n",
    "flights_df['ARR_DELAY'] = pd.to_numeric(flights_df['ARR_DELAY'], errors='coerce')\n",
    "flights_df['OCCUPANCY_RATE'] = pd.to_numeric(flights_df['OCCUPANCY_RATE'], errors='coerce')"
   ]
  },
  {
   "cell_type": "code",
   "execution_count": 19,
   "id": "a828d254",
   "metadata": {},
   "outputs": [],
   "source": [
    "# Filter out canceled flights\n",
    "valid_flights = flights_df[flights_df['CANCELLED'] == 0].copy()"
   ]
  },
  {
   "cell_type": "code",
   "execution_count": 20,
   "id": "561f2e5b",
   "metadata": {},
   "outputs": [],
   "source": [
    "# Define cost components\n",
    "fuel_maintenance_crew_cost_per_mile = 8.0  # $ per mile\n",
    "depreciation_insurance_cost_per_mile = 1.18  # $ per mile\n",
    "delay_cost_per_minute = 75.0  # Additional cost per minute after 15 min delay"
   ]
  },
  {
   "cell_type": "code",
   "execution_count": 21,
   "id": "2ceff0b0",
   "metadata": {},
   "outputs": [],
   "source": [
    "# Compute revenue per flight\n",
    "ticket_price_per_passenger = valid_flights['OCCUPANCY_RATE'] * 200  # Assuming ticket price * occupancy\n",
    "baggage_fee_per_passenger = 70 * 0.5  # 50% of passengers check bags"
   ]
  },
  {
   "cell_type": "code",
   "execution_count": 22,
   "id": "ad277c56",
   "metadata": {},
   "outputs": [],
   "source": [
    "valid_flights['Revenue'] = (ticket_price_per_passenger * 200) + (baggage_fee_per_passenger * 200)"
   ]
  },
  {
   "cell_type": "code",
   "execution_count": 23,
   "id": "fcdffb59",
   "metadata": {},
   "outputs": [],
   "source": [
    "# Compute cost per flight\n",
    "valid_flights['Flight_Cost'] = valid_flights['DISTANCE'] * (fuel_maintenance_crew_cost_per_mile + depreciation_insurance_cost_per_mile)"
   ]
  },
  {
   "cell_type": "code",
   "execution_count": 24,
   "id": "2bdd5035",
   "metadata": {},
   "outputs": [],
   "source": [
    "# Compute delay cost\n",
    "valid_flights['DEP_DELAY'] = valid_flights['DEP_DELAY'].clip(lower=0) - 15  # Remove first 15 minutes\n",
    "valid_flights['ARR_DELAY'] = valid_flights['ARR_DELAY'].clip(lower=0) - 15  # Remove first 15 minutes"
   ]
  },
  {
   "cell_type": "code",
   "execution_count": 25,
   "id": "0956a0fb",
   "metadata": {},
   "outputs": [],
   "source": [
    "# Ensure no negative delay times\n",
    "valid_flights['DEP_DELAY'] = valid_flights['DEP_DELAY'].clip(lower=0)\n",
    "valid_flights['ARR_DELAY'] = valid_flights['ARR_DELAY'].clip(lower=0)"
   ]
  },
  {
   "cell_type": "code",
   "execution_count": 26,
   "id": "1499690e",
   "metadata": {},
   "outputs": [],
   "source": [
    "# Compute total delay cost\n",
    "valid_flights['Delay_Cost'] = (valid_flights['DEP_DELAY'] + valid_flights['ARR_DELAY']) * delay_cost_per_minute"
   ]
  },
  {
   "cell_type": "code",
   "execution_count": 27,
   "id": "647db8d9",
   "metadata": {},
   "outputs": [],
   "source": [
    "# Compute total cost including delays\n",
    "valid_flights['Total_Cost'] = valid_flights['Flight_Cost'] + valid_flights['Delay_Cost']"
   ]
  },
  {
   "cell_type": "code",
   "execution_count": 28,
   "id": "5cbb36b8",
   "metadata": {},
   "outputs": [],
   "source": [
    "# Compute profit per flight\n",
    "valid_flights['Profit'] = valid_flights['Revenue'] - valid_flights['Total_Cost']"
   ]
  },
  {
   "cell_type": "code",
   "execution_count": 29,
   "id": "1fc185ea",
   "metadata": {},
   "outputs": [],
   "source": [
    "# Aggregate data at the round-trip route level\n",
    "route_analysis = valid_flights.groupby(['ORIGIN', 'DESTINATION']).agg(\n",
    "    Total_Revenue=('Revenue', 'sum'),\n",
    "    Total_Cost=('Total_Cost', 'sum'),\n",
    "    Total_Profit=('Profit', 'sum'),\n",
    "    Total_Round_Trips=('ORIGIN', 'count'),  # Counting flights per route\n",
    "    Avg_Occupancy=('OCCUPANCY_RATE', 'mean'),\n",
    "    Avg_Dep_Delay=('DEP_DELAY', 'mean'),\n",
    "    Avg_Arr_Delay=('ARR_DELAY', 'mean')\n",
    ").reset_index()"
   ]
  },
  {
   "cell_type": "code",
   "execution_count": 30,
   "id": "be0ba170",
   "metadata": {},
   "outputs": [],
   "source": [
    "# Normalize delay times (lower is better) and profit (higher is better)\n",
    "route_analysis['Score'] = (\n",
    "    (route_analysis['Total_Profit'] / route_analysis['Total_Profit'].max()) * 0.5 +  # Profitability weight\n",
    "    (route_analysis['Avg_Occupancy'] / route_analysis['Avg_Occupancy'].max()) * 0.3 +  # Occupancy weight\n",
    "    ((route_analysis['Avg_Dep_Delay'].max() - route_analysis['Avg_Dep_Delay']) / route_analysis['Avg_Dep_Delay'].max()) * 0.1 +  # Departure delay weight\n",
    "    ((route_analysis['Avg_Arr_Delay'].max() - route_analysis['Avg_Arr_Delay']) / route_analysis['Avg_Arr_Delay'].max()) * 0.1  # Arrival delay weight\n",
    ")"
   ]
  },
  {
   "cell_type": "code",
   "execution_count": 31,
   "id": "4ffd9ae6",
   "metadata": {},
   "outputs": [],
   "source": [
    "# Select the top 5 routes for investment\n",
    "top_5_routes = route_analysis.nlargest(5, 'Score')"
   ]
  },
  {
   "cell_type": "code",
   "execution_count": 32,
   "id": "fa7f3a6e",
   "metadata": {},
   "outputs": [
    {
     "name": "stdout",
     "output_type": "stream",
     "text": [
      "Top 5 Recommended Round-Trip Routes:\n"
     ]
    },
    {
     "data": {
      "text/html": [
       "<div>\n",
       "<style scoped>\n",
       "    .dataframe tbody tr th:only-of-type {\n",
       "        vertical-align: middle;\n",
       "    }\n",
       "\n",
       "    .dataframe tbody tr th {\n",
       "        vertical-align: top;\n",
       "    }\n",
       "\n",
       "    .dataframe thead th {\n",
       "        text-align: right;\n",
       "    }\n",
       "</style>\n",
       "<table border=\"1\" class=\"dataframe\">\n",
       "  <thead>\n",
       "    <tr style=\"text-align: right;\">\n",
       "      <th></th>\n",
       "      <th>ORIGIN</th>\n",
       "      <th>DESTINATION</th>\n",
       "      <th>Total_Revenue</th>\n",
       "      <th>Total_Cost</th>\n",
       "      <th>Total_Profit</th>\n",
       "      <th>Total_Round_Trips</th>\n",
       "      <th>Avg_Occupancy</th>\n",
       "      <th>Avg_Dep_Delay</th>\n",
       "      <th>Avg_Arr_Delay</th>\n",
       "      <th>Score</th>\n",
       "    </tr>\n",
       "  </thead>\n",
       "  <tbody>\n",
       "    <tr>\n",
       "      <th>5284</th>\n",
       "      <td>SFO</td>\n",
       "      <td>LAX</td>\n",
       "      <td>138306800.00</td>\n",
       "      <td>23083855.50</td>\n",
       "      <td>115187544.50</td>\n",
       "      <td>4176</td>\n",
       "      <td>0.65</td>\n",
       "      <td>15.34</td>\n",
       "      <td>17.16</td>\n",
       "      <td>0.89</td>\n",
       "    </tr>\n",
       "    <tr>\n",
       "      <th>3010</th>\n",
       "      <td>LAX</td>\n",
       "      <td>SFO</td>\n",
       "      <td>136584000.00</td>\n",
       "      <td>24737588.28</td>\n",
       "      <td>111650811.72</td>\n",
       "      <td>4164</td>\n",
       "      <td>0.65</td>\n",
       "      <td>18.28</td>\n",
       "      <td>19.80</td>\n",
       "      <td>0.87</td>\n",
       "    </tr>\n",
       "    <tr>\n",
       "      <th>2971</th>\n",
       "      <td>LAX</td>\n",
       "      <td>LAS</td>\n",
       "      <td>107763400.00</td>\n",
       "      <td>11493775.92</td>\n",
       "      <td>96163824.08</td>\n",
       "      <td>3257</td>\n",
       "      <td>0.65</td>\n",
       "      <td>9.06</td>\n",
       "      <td>9.14</td>\n",
       "      <td>0.81</td>\n",
       "    </tr>\n",
       "    <tr>\n",
       "      <th>2869</th>\n",
       "      <td>LAS</td>\n",
       "      <td>LAX</td>\n",
       "      <td>106949200.00</td>\n",
       "      <td>11527842.96</td>\n",
       "      <td>95332557.04</td>\n",
       "      <td>3254</td>\n",
       "      <td>0.65</td>\n",
       "      <td>8.82</td>\n",
       "      <td>9.55</td>\n",
       "      <td>0.80</td>\n",
       "    </tr>\n",
       "    <tr>\n",
       "      <th>4066</th>\n",
       "      <td>ORD</td>\n",
       "      <td>LGA</td>\n",
       "      <td>118072800.00</td>\n",
       "      <td>35118010.50</td>\n",
       "      <td>82787789.50</td>\n",
       "      <td>3580</td>\n",
       "      <td>0.65</td>\n",
       "      <td>19.48</td>\n",
       "      <td>21.76</td>\n",
       "      <td>0.74</td>\n",
       "    </tr>\n",
       "  </tbody>\n",
       "</table>\n",
       "</div>"
      ],
      "text/plain": [
       "     ORIGIN DESTINATION  Total_Revenue  Total_Cost  Total_Profit  \\\n",
       "5284    SFO         LAX   138306800.00 23083855.50  115187544.50   \n",
       "3010    LAX         SFO   136584000.00 24737588.28  111650811.72   \n",
       "2971    LAX         LAS   107763400.00 11493775.92   96163824.08   \n",
       "2869    LAS         LAX   106949200.00 11527842.96   95332557.04   \n",
       "4066    ORD         LGA   118072800.00 35118010.50   82787789.50   \n",
       "\n",
       "      Total_Round_Trips  Avg_Occupancy  Avg_Dep_Delay  Avg_Arr_Delay  Score  \n",
       "5284               4176           0.65          15.34          17.16   0.89  \n",
       "3010               4164           0.65          18.28          19.80   0.87  \n",
       "2971               3257           0.65           9.06           9.14   0.81  \n",
       "2869               3254           0.65           8.82           9.55   0.80  \n",
       "4066               3580           0.65          19.48          21.76   0.74  "
      ]
     },
     "execution_count": 32,
     "metadata": {},
     "output_type": "execute_result"
    }
   ],
   "source": [
    "# Display results\n",
    "print(\"Top 5 Recommended Round-Trip Routes:\")\n",
    "top_5_routes"
   ]
  },
  {
   "cell_type": "markdown",
   "id": "82f32dcd",
   "metadata": {},
   "source": [
    "#### How many round-trip flights are required to break even on the upfront airplane cost for each of the 5 recommended routes? (Include key summary components.)"
   ]
  },
  {
   "cell_type": "raw",
   "id": "343e662b",
   "metadata": {},
   "source": [
    "🔹 Formula for Break-Even Flights\n",
    "Break-Even Flights\n",
    "=\n",
    "Upfront Airplane Cost\n",
    "Profit per Round-Trip Flight\n",
    "Break-Even Flights= \n",
    "Profit per Round-Trip Flight\n",
    "Upfront Airplane Cost\n",
    "​\n",
    " \n",
    "Where:\n",
    "\n",
    "Upfront Airplane Cost = $90 million ($90,000,000)\n",
    "Profit per Round-Trip Flight = Total Profit / Total Round-Trip Flights"
   ]
  },
  {
   "cell_type": "code",
   "execution_count": null,
   "id": "ff0f4b18",
   "metadata": {},
   "outputs": [],
   "source": [
    "# Ensure necessary columns are numeric\n",
    "flights_df['DISTANCE'] = pd.to_numeric(flights_df['DISTANCE'], errors='coerce')\n",
    "flights_df['DEP_DELAY'] = pd.to_numeric(flights_df['DEP_DELAY'], errors='coerce')\n",
    "flights_df['ARR_DELAY'] = pd.to_numeric(flights_df['ARR_DELAY'], errors='coerce')\n",
    "flights_df['OCCUPANCY_RATE'] = pd.to_numeric(flights_df['OCCUPANCY_RATE'], errors='coerce')"
   ]
  },
  {
   "cell_type": "code",
   "execution_count": null,
   "id": "9eaad7cf",
   "metadata": {},
   "outputs": [],
   "source": [
    "# Filter out canceled flights\n",
    "valid_flights = flights_df[flights_df['CANCELLED'] == 0].copy()"
   ]
  },
  {
   "cell_type": "code",
   "execution_count": null,
   "id": "a9eb009a",
   "metadata": {},
   "outputs": [],
   "source": [
    "# Define cost components\n",
    "fuel_maintenance_crew_cost_per_mile = 8.0  # $ per mile\n",
    "depreciation_insurance_cost_per_mile = 1.18  # $ per mile\n",
    "delay_cost_per_minute = 75.0  # Additional cost per minute after 15 min delay\n",
    "airplane_cost = 90_000_000  # $90 million per airplane"
   ]
  },
  {
   "cell_type": "code",
   "execution_count": null,
   "id": "7a11596c",
   "metadata": {},
   "outputs": [],
   "source": [
    "# Compute revenue per flight\n",
    "ticket_price_per_passenger = valid_flights['OCCUPANCY_RATE'] * 200  # Assuming ticket price * occupancy\n",
    "baggage_fee_per_passenger = 70 * 0.5  # 50% of passengers check bags"
   ]
  },
  {
   "cell_type": "code",
   "execution_count": null,
   "id": "806e05f8",
   "metadata": {},
   "outputs": [],
   "source": [
    "valid_flights['Revenue'] = (ticket_price_per_passenger * 200) + (baggage_fee_per_passenger * 200)"
   ]
  },
  {
   "cell_type": "code",
   "execution_count": null,
   "id": "ff69d2f6",
   "metadata": {},
   "outputs": [],
   "source": [
    "# Compute cost per flight\n",
    "valid_flights['Flight_Cost'] = valid_flights['DISTANCE'] * (fuel_maintenance_crew_cost_per_mile + depreciation_insurance_cost_per_mile)"
   ]
  },
  {
   "cell_type": "code",
   "execution_count": null,
   "id": "8da7c9ab",
   "metadata": {},
   "outputs": [],
   "source": [
    "# Compute delay cost\n",
    "valid_flights['DEP_DELAY'] = valid_flights['DEP_DELAY'].clip(lower=0) - 15  # Remove first 15 minutes\n",
    "valid_flights['ARR_DELAY'] = valid_flights['ARR_DELAY'].clip(lower=0) - 15  # Remove first 15 minutes\n",
    "valid_flights['DEP_DELAY'] = valid_flights['DEP_DELAY'].clip(lower=0)\n",
    "valid_flights['ARR_DELAY'] = valid_flights['ARR_DELAY'].clip(lower=0)"
   ]
  },
  {
   "cell_type": "code",
   "execution_count": null,
   "id": "d3cc066c",
   "metadata": {},
   "outputs": [],
   "source": [
    "# Compute total delay cost\n",
    "valid_flights['Delay_Cost'] = (valid_flights['DEP_DELAY'] + valid_flights['ARR_DELAY']) * delay_cost_per_minute"
   ]
  },
  {
   "cell_type": "code",
   "execution_count": null,
   "id": "3023335b",
   "metadata": {},
   "outputs": [],
   "source": [
    "# Compute total cost including delays\n",
    "valid_flights['Total_Cost'] = valid_flights['Flight_Cost'] + valid_flights['Delay_Cost']"
   ]
  },
  {
   "cell_type": "code",
   "execution_count": null,
   "id": "59bcc32e",
   "metadata": {},
   "outputs": [],
   "source": [
    "# Compute profit per flight\n",
    "valid_flights['Profit'] = valid_flights['Revenue'] - valid_flights['Total_Cost']"
   ]
  },
  {
   "cell_type": "code",
   "execution_count": null,
   "id": "7c9aa3ee",
   "metadata": {},
   "outputs": [],
   "source": [
    "# Aggregate data at the round-trip route level\n",
    "route_analysis = valid_flights.groupby(['ORIGIN', 'DESTINATION']).agg(\n",
    "    Total_Revenue=('Revenue', 'sum'),\n",
    "    Total_Cost=('Total_Cost', 'sum'),\n",
    "    Total_Profit=('Profit', 'sum'),\n",
    "    Total_Round_Trips=('ORIGIN', 'count'),  # Counting flights per route\n",
    "    Avg_Occupancy=('OCCUPANCY_RATE', 'mean'),\n",
    "    Avg_Dep_Delay=('DEP_DELAY', 'mean'),\n",
    "    Avg_Arr_Delay=('ARR_DELAY', 'mean')\n",
    ").reset_index()"
   ]
  },
  {
   "cell_type": "code",
   "execution_count": null,
   "id": "0e1b7af5",
   "metadata": {},
   "outputs": [],
   "source": [
    "# Normalize delay times (lower is better) and profit (higher is better)\n",
    "route_analysis['Score'] = (\n",
    "    (route_analysis['Total_Profit'] / route_analysis['Total_Profit'].max()) * 0.5 +  # Profitability weight\n",
    "    (route_analysis['Avg_Occupancy'] / route_analysis['Avg_Occupancy'].max()) * 0.3 +  # Occupancy weight\n",
    "    ((route_analysis['Avg_Dep_Delay'].max() - route_analysis['Avg_Dep_Delay']) / route_analysis['Avg_Dep_Delay'].max()) * 0.1 +  # Departure delay weight\n",
    "    ((route_analysis['Avg_Arr_Delay'].max() - route_analysis['Avg_Arr_Delay']) / route_analysis['Avg_Arr_Delay'].max()) * 0.1  # Arrival delay weight\n",
    ")"
   ]
  },
  {
   "cell_type": "code",
   "execution_count": null,
   "id": "d8b01278",
   "metadata": {},
   "outputs": [],
   "source": [
    "# Select the top 5 routes for investment\n",
    "top_5_routes = route_analysis.nlargest(5, 'Score')"
   ]
  },
  {
   "cell_type": "code",
   "execution_count": null,
   "id": "264b53e6",
   "metadata": {},
   "outputs": [],
   "source": [
    "# Compute Break-Even Flights for each route\n",
    "top_5_routes['Profit_per_Round_Trip'] = top_5_routes['Total_Profit'] / top_5_routes['Total_Round_Trips']\n",
    "top_5_routes['Break_Even_Flights'] = airplane_cost / top_5_routes['Profit_per_Round_Trip']"
   ]
  },
  {
   "cell_type": "code",
   "execution_count": 34,
   "id": "b3c667f4",
   "metadata": {},
   "outputs": [
    {
     "data": {
      "text/html": [
       "<div>\n",
       "<style scoped>\n",
       "    .dataframe tbody tr th:only-of-type {\n",
       "        vertical-align: middle;\n",
       "    }\n",
       "\n",
       "    .dataframe tbody tr th {\n",
       "        vertical-align: top;\n",
       "    }\n",
       "\n",
       "    .dataframe thead th {\n",
       "        text-align: right;\n",
       "    }\n",
       "</style>\n",
       "<table border=\"1\" class=\"dataframe\">\n",
       "  <thead>\n",
       "    <tr style=\"text-align: right;\">\n",
       "      <th></th>\n",
       "      <th>ORIGIN</th>\n",
       "      <th>DESTINATION</th>\n",
       "      <th>Total_Profit</th>\n",
       "      <th>Total_Round_Trips</th>\n",
       "      <th>Profit_per_Round_Trip</th>\n",
       "      <th>Break_Even_Flights</th>\n",
       "    </tr>\n",
       "  </thead>\n",
       "  <tbody>\n",
       "    <tr>\n",
       "      <th>5284</th>\n",
       "      <td>SFO</td>\n",
       "      <td>LAX</td>\n",
       "      <td>115187544.50</td>\n",
       "      <td>4176</td>\n",
       "      <td>27583.22</td>\n",
       "      <td>3262.85</td>\n",
       "    </tr>\n",
       "    <tr>\n",
       "      <th>3010</th>\n",
       "      <td>LAX</td>\n",
       "      <td>SFO</td>\n",
       "      <td>111650811.72</td>\n",
       "      <td>4164</td>\n",
       "      <td>26813.36</td>\n",
       "      <td>3356.54</td>\n",
       "    </tr>\n",
       "    <tr>\n",
       "      <th>2971</th>\n",
       "      <td>LAX</td>\n",
       "      <td>LAS</td>\n",
       "      <td>96163824.08</td>\n",
       "      <td>3257</td>\n",
       "      <td>29525.28</td>\n",
       "      <td>3048.24</td>\n",
       "    </tr>\n",
       "    <tr>\n",
       "      <th>2869</th>\n",
       "      <td>LAS</td>\n",
       "      <td>LAX</td>\n",
       "      <td>95332557.04</td>\n",
       "      <td>3254</td>\n",
       "      <td>29297.04</td>\n",
       "      <td>3071.98</td>\n",
       "    </tr>\n",
       "    <tr>\n",
       "      <th>4066</th>\n",
       "      <td>ORD</td>\n",
       "      <td>LGA</td>\n",
       "      <td>82787789.50</td>\n",
       "      <td>3580</td>\n",
       "      <td>23125.08</td>\n",
       "      <td>3891.88</td>\n",
       "    </tr>\n",
       "  </tbody>\n",
       "</table>\n",
       "</div>"
      ],
      "text/plain": [
       "     ORIGIN DESTINATION  Total_Profit  Total_Round_Trips  \\\n",
       "5284    SFO         LAX  115187544.50               4176   \n",
       "3010    LAX         SFO  111650811.72               4164   \n",
       "2971    LAX         LAS   96163824.08               3257   \n",
       "2869    LAS         LAX   95332557.04               3254   \n",
       "4066    ORD         LGA   82787789.50               3580   \n",
       "\n",
       "      Profit_per_Round_Trip  Break_Even_Flights  \n",
       "5284               27583.22             3262.85  \n",
       "3010               26813.36             3356.54  \n",
       "2971               29525.28             3048.24  \n",
       "2869               29297.04             3071.98  \n",
       "4066               23125.08             3891.88  "
      ]
     },
     "execution_count": 34,
     "metadata": {},
     "output_type": "execute_result"
    }
   ],
   "source": [
    "# Display the top 5 recommended routes with break-even calculations\n",
    "top_5_routes[['ORIGIN', 'DESTINATION', 'Total_Profit', 'Total_Round_Trips', 'Profit_per_Round_Trip', 'Break_Even_Flights']]"
   ]
  },
  {
   "cell_type": "code",
   "execution_count": null,
   "id": "754d1e1f",
   "metadata": {},
   "outputs": [],
   "source": []
  }
 ],
 "metadata": {
  "kernelspec": {
   "display_name": "Python 3 (ipykernel)",
   "language": "python",
   "name": "python3"
  },
  "language_info": {
   "codemirror_mode": {
    "name": "ipython",
    "version": 3
   },
   "file_extension": ".py",
   "mimetype": "text/x-python",
   "name": "python",
   "nbconvert_exporter": "python",
   "pygments_lexer": "ipython3",
   "version": "3.11.5"
  }
 },
 "nbformat": 4,
 "nbformat_minor": 5
}
